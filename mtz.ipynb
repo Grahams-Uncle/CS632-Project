{
 "cells": [
  {
   "cell_type": "code",
   "execution_count": null,
   "metadata": {},
   "outputs": [],
   "source": [
    "import pulp\n",
    "from pulp import PULP_CBC_CMD\n",
    "import tsplib95\n",
    "\n",
    "problem = tsplib95.load('br17.atsp')\n",
    "\n",
    "G = problem.get_graph()"
   ]
  },
  {
   "cell_type": "code",
   "execution_count": 27,
   "metadata": {},
   "outputs": [
    {
     "name": "stdout",
     "output_type": "stream",
     "text": [
      "Set parameter Username\n",
      "Set parameter LicenseID to value 2594484\n",
      "Set parameter LogFile to value \"gurobi.log\"\n",
      "Using license file /Library/gurobi1200/gurobi.lic\n",
      "Academic license - for non-commercial use only - expires 2025-12-03\n",
      "\n",
      "Gurobi Optimizer version 12.0.0 build v12.0.0rc1 (mac64[arm] - Darwin 24.1.0 24B91)\n",
      "Copyright (c) 2024, Gurobi Optimization, LLC\n",
      "\n",
      "Read LP format model from file /var/folders/tf/kyhcn0rj15722n_6n2h54bcc0000gn/T/37c1ff29eac2430ab650262541491b25-pulp.lp\n",
      "Reading time = 0.00 seconds\n",
      "Minimize_Cost: 290 rows, 289 columns, 1312 nonzeros\n",
      "\n",
      "Using Gurobi shared library /Users/chuck/miniforge3/envs/CS632/lib/libgurobi120.dylib\n",
      "\n",
      "CPU model: Apple M3 Max\n",
      "Thread count: 14 physical cores, 14 logical processors, using up to 14 threads\n",
      "\n",
      "Optimize a model with 290 rows, 289 columns and 1312 nonzeros\n",
      "Model fingerprint: 0x02eebc7e\n",
      "Variable types: 0 continuous, 289 integer (272 binary)\n",
      "Coefficient statistics:\n",
      "  Matrix range     [1e+00, 2e+01]\n",
      "  Objective range  [3e+00, 7e+01]\n",
      "  Bounds range     [1e+00, 2e+01]\n",
      "  RHS range        [1e+00, 2e+01]\n",
      "Presolve removed 0 rows and 1 columns\n",
      "Presolve time: 0.00s\n",
      "Presolved: 290 rows, 288 columns, 1296 nonzeros\n",
      "Variable types: 0 continuous, 288 integer (272 binary)\n",
      "\n",
      "Root relaxation: objective 2.117647e+00, 46 iterations, 0.00 seconds (0.00 work units)\n",
      "\n",
      "    Nodes    |    Current Node    |     Objective Bounds      |     Work\n",
      " Expl Unexpl |  Obj  Depth IntInf | Incumbent    BestBd   Gap | It/Node Time\n",
      "\n",
      "     0     0    2.11765    0   24          -    2.11765      -     -    0s\n",
      "H    0     0                      86.0000000    2.11765  97.5%     -    0s\n",
      "H    0     0                      40.0000000   18.25210  54.4%     -    0s\n",
      "     0     0   18.25210    0   33   40.00000   18.25210  54.4%     -    0s\n",
      "     0     0   19.76471    0   39   40.00000   19.76471  50.6%     -    0s\n",
      "     0     0   28.00000    0   39   40.00000   28.00000  30.0%     -    0s\n",
      "     0     0   28.00000    0   36   40.00000   28.00000  30.0%     -    0s\n",
      "     0     0   28.00000    0   30   40.00000   28.00000  30.0%     -    0s\n",
      "     0     0   28.00000    0   29   40.00000   28.00000  30.0%     -    0s\n",
      "     0     0   28.00000    0   16   40.00000   28.00000  30.0%     -    0s\n",
      "     0     0   28.00000    0   19   40.00000   28.00000  30.0%     -    0s\n",
      "     0     0   28.00000    0   10   40.00000   28.00000  30.0%     -    0s\n",
      "     0     0   28.00000    0   21   40.00000   28.00000  30.0%     -    0s\n",
      "     0     0   28.00000    0   23   40.00000   28.00000  30.0%     -    0s\n",
      "     0     0   28.00000    0   23   40.00000   28.00000  30.0%     -    0s\n",
      "     0     0   28.00000    0   10   40.00000   28.00000  30.0%     -    0s\n",
      "     0     0   28.00000    0   15   40.00000   28.00000  30.0%     -    0s\n",
      "     0     0   28.00000    0   15   40.00000   28.00000  30.0%     -    0s\n",
      "     0     0   28.00000    0   21   40.00000   28.00000  30.0%     -    0s\n",
      "     0     0   28.00000    0   12   40.00000   28.00000  30.0%     -    0s\n",
      "     0     0   28.00000    0   34   40.00000   28.00000  30.0%     -    0s\n",
      "H    0     0                      39.0000000   28.00000  28.2%     -    0s\n",
      "     0     0   28.00000    0   18   39.00000   28.00000  28.2%     -    0s\n",
      "     0     0   28.00000    0   18   39.00000   28.00000  28.2%     -    0s\n",
      "     0     0   28.00000    0   19   39.00000   28.00000  28.2%     -    0s\n",
      "     0     0   28.00000    0   41   39.00000   28.00000  28.2%     -    0s\n",
      "     0     0   28.00000    0   40   39.00000   28.00000  28.2%     -    0s\n",
      "     0     0   28.00000    0   21   39.00000   28.00000  28.2%     -    0s\n",
      "     0     0   28.00000    0   21   39.00000   28.00000  28.2%     -    0s\n",
      "     0     0   28.00000    0   11   39.00000   28.00000  28.2%     -    0s\n",
      "     0     0   28.00000    0   17   39.00000   28.00000  28.2%     -    0s\n",
      "     0     0   28.00000    0   13   39.00000   28.00000  28.2%     -    0s\n",
      "     0     0   28.00000    0   16   39.00000   28.00000  28.2%     -    0s\n",
      "     0     0   28.00000    0   15   39.00000   28.00000  28.2%     -    0s\n",
      "     0     0   28.00000    0   36   39.00000   28.00000  28.2%     -    0s\n",
      "     0     0   28.00000    0   13   39.00000   28.00000  28.2%     -    0s\n",
      "     0     0   28.00000    0   13   39.00000   28.00000  28.2%     -    0s\n",
      "     0     0   28.00000    0   13   39.00000   28.00000  28.2%     -    0s\n",
      "     0     0   28.00000    0   13   39.00000   28.00000  28.2%     -    0s\n",
      "     0     2   28.00000    0   11   39.00000   28.00000  28.2%     -    0s\n",
      "\n",
      "Cutting planes:\n",
      "  Learned: 7\n",
      "  Gomory: 3\n",
      "  Cover: 1\n",
      "  Implied bound: 25\n",
      "  MIR: 24\n",
      "  StrongCG: 2\n",
      "  Inf proof: 5\n",
      "  Zero half: 1\n",
      "  RLT: 12\n",
      "  Relax-and-lift: 25\n",
      "  BQP: 1\n",
      "  PSD: 11\n",
      "\n",
      "Explored 1226 nodes (9670 simplex iterations) in 0.20 seconds (0.24 work units)\n",
      "Thread count was 14 (of 14 available processors)\n",
      "\n",
      "Solution count 3: 39 40 86 \n",
      "\n",
      "Optimal solution found (tolerance 1.00e-04)\n",
      "Best objective 3.900000000000e+01, best bound 3.900000000000e+01, gap 0.0000%\n",
      "\n",
      "Wrote result file '/var/folders/tf/kyhcn0rj15722n_6n2h54bcc0000gn/T/37c1ff29eac2430ab650262541491b25-pulp.sol'\n",
      "\n"
     ]
    },
    {
     "data": {
      "text/plain": [
       "1"
      ]
     },
     "execution_count": 27,
     "metadata": {},
     "output_type": "execute_result"
    }
   ],
   "source": [
    "from mtz_pulp import add_subtour_constraints\n",
    "\n",
    "n = len(G.nodes)\n",
    "nodes = list(G.nodes)\n",
    "\n",
    "model = pulp.LpProblem(\"TSP_MTZ\", pulp.LpMinimize)\n",
    "\n",
    "# Define binary decision variables x[i,j] for edges i->j\n",
    "x = {(i, j): pulp.LpVariable(f\"x_{i}_{j}\", cat=pulp.LpBinary)\n",
    "     for i in nodes for j in nodes if i != j}\n",
    "\n",
    "# Extract costs from the graph \n",
    "costs = nx.get_edge_attributes(G, 'weight')\n",
    "\n",
    "# Objective: Minimize sum of cost * x[i,j]\n",
    "model += pulp.lpSum(costs[(i, j)] * x[(i, j)]\n",
    "                    for i in nodes for j in nodes if i != j), \"Minimize_Cost\"\n",
    "\n",
    "for i in nodes:\n",
    "    # Outflow constraint for city i\n",
    "    model += pulp.lpSum(x[(i, j)] for j in nodes if j != i) == 1, f\"Outflow_{i}\"\n",
    "\n",
    "    # Inflow constraint for city i\n",
    "    model += pulp.lpSum(x[(j, i)] for j in nodes if j != i) == 1, f\"Inflow_{i}\"\n",
    "\n",
    "# Define u\n",
    "u = {i: pulp.LpVariable(f\"u_{i}\", lowBound=0, upBound=n-1, cat=pulp.LpInteger)\n",
    "     for i in nodes}\n",
    "\n",
    "# Add MTZ constraints\n",
    "for i in range(1, n):  \n",
    "    for j in nodes:\n",
    "        if i != j:\n",
    "            model += u[i] - u[j] + n*x[(i, j)] <= n-1, f\"MTZ_{i}_{j}\"\n",
    "# model.solve(PULP_CBC_CMD(gapRel = 0.02))\n",
    "model.solve(pulp.GUROBI_CMD())"
   ]
  },
  {
   "cell_type": "code",
   "execution_count": 28,
   "metadata": {},
   "outputs": [
    {
     "name": "stdout",
     "output_type": "stream",
     "text": [
      "Cost: 39.0\n"
     ]
    }
   ],
   "source": [
    "print(\"Cost:\", pulp.value(model.objective))"
   ]
  },
  {
   "cell_type": "code",
   "execution_count": 29,
   "metadata": {},
   "outputs": [
    {
     "data": {
      "text/plain": [
       "[0, 11, 7, 8, 16, 3, 4, 6, 14, 15, 5, 1, 10, 12, 9, 2, 13]"
      ]
     },
     "execution_count": 29,
     "metadata": {},
     "output_type": "execute_result"
    }
   ],
   "source": [
    "from pulp import value\n",
    "\n",
    "# Ensure model is solved\n",
    "if value(model.status) == 1:\n",
    "    # Extract solution values: which edges are chosen?\n",
    "    chosen_edges = [(i, j) for (i, j) in x if value(x[(i, j)]) == 1]\n",
    "\n",
    "    # Reconstruct tour\n",
    "    # Start from node 0 (or any arbitrary node)\n",
    "    start_node = 0\n",
    "    tour = [start_node]\n",
    "    current_node = start_node\n",
    "\n",
    "    # There are n nodes, so we add n-1 more edges\n",
    "    for _ in range(n - 1):\n",
    "        # Find the next node that current_node connects to\n",
    "        for (u, v) in chosen_edges:\n",
    "            if u == current_node:\n",
    "                tour.append(v)\n",
    "                current_node = v\n",
    "                break\n",
    "tour"
   ]
  }
 ],
 "metadata": {
  "kernelspec": {
   "display_name": "CS632",
   "language": "python",
   "name": "python3"
  },
  "language_info": {
   "codemirror_mode": {
    "name": "ipython",
    "version": 3
   },
   "file_extension": ".py",
   "mimetype": "text/x-python",
   "name": "python",
   "nbconvert_exporter": "python",
   "pygments_lexer": "ipython3",
   "version": "3.9.20"
  }
 },
 "nbformat": 4,
 "nbformat_minor": 2
}
