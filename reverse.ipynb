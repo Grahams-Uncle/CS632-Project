{
 "cells": [
  {
   "cell_type": "code",
   "execution_count": 1,
   "metadata": {},
   "outputs": [
    {
     "name": "stdout",
     "output_type": "stream",
     "text": [
      "z_star is dict\n",
      "==================== printing z_support =====================\n",
      "0 2 5\n",
      "0 3 48\n",
      "0 4 48\n",
      "1 2 3\n",
      "2 3 72\n",
      "2 4 72\n",
      "1 3 48\n",
      "3 4 0\n",
      "1 4 48\n",
      "==================== printing z_star (dict) =====================\n",
      "0 2 0.8\n",
      "0 3 0.4\n",
      "0 4 0.4\n",
      "1 2 0.8\n",
      "1 3 0.26666666666666666\n",
      "1 4 0.26666666666666666\n",
      "2 3 0.13333333333333333\n",
      "2 4 0.13333333333333333\n",
      "3 4 0.8\n",
      ">>>>>>>>> gamma: {(0, 2): 0, (0, 3): -0.6650501394962615, (0, 4): -0.558212266386664, (2, 1): 0, (2, 3): -1.9730497991086515, (2, 4): -1.8908129336074322, (3, 1): -1.3646547837737146, (3, 4): 0, (4, 1): -1.4276048374708457}\n",
      "None || 0 2\n",
      "None || 2 1\n",
      "None || 1 4\n",
      "None || 4 3\n"
     ]
    },
    {
     "data": {
      "text/plain": [
       "[4, 1, 2, 0, 3, 4]"
      ]
     },
     "execution_count": 1,
     "metadata": {},
     "output_type": "execute_result"
    }
   ],
   "source": [
    "import networkx as nx\n",
    "import networkx.algorithms.approximation as approx\n",
    "import tsplib95\n",
    "\n",
    "problem = tsplib95.load(\"/Users/FakeYQL/Downloads/ALL_atsp/br17.atsp\")\n",
    "\n",
    "G = problem.get_graph()\n",
    "\n",
    "for u, v, data in G.edges(data=True):\n",
    "    weight = data.get('weight', 0) \n",
    "    G[u][v].clear()  \n",
    "    G[u][v]['weight'] = weight\n",
    "\n",
    "G.is_directed() \n",
    "\n",
    "G_ = G.subgraph(range(5))\n",
    "G_ = G_.copy()\n",
    "tour = approx.asadpour_atsp(G_)\n",
    "\n",
    "\n",
    "tour"
   ]
  }
 ],
 "metadata": {
  "kernelspec": {
   "display_name": "base",
   "language": "python",
   "name": "python3"
  },
  "language_info": {
   "codemirror_mode": {
    "name": "ipython",
    "version": 3
   },
   "file_extension": ".py",
   "mimetype": "text/x-python",
   "name": "python",
   "nbconvert_exporter": "python",
   "pygments_lexer": "ipython3",
   "version": "3.9.13"
  }
 },
 "nbformat": 4,
 "nbformat_minor": 2
}
