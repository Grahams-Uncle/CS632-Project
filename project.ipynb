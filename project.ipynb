{
 "cells": [
  {
   "cell_type": "markdown",
   "metadata": {},
   "source": [
    "# Held-Karp LP Solver"
   ]
  },
  {
   "cell_type": "code",
   "execution_count": 11,
   "metadata": {},
   "outputs": [],
   "source": [
    "import pulp\n",
    "\n",
    "def solve_held_karp(vertices, edges):\n",
    "    prob = pulp.LpProblem(\"Held-Karp_Relaxation\", pulp.LpMinimize)\n",
    "    x = pulp.LpVariable.dicts(\"x\", [(i, j) for i, j, _ in edges], \n",
    "                              lowBound=0, upBound=1, cat=pulp.LpContinuous)\n",
    "\n",
    "    prob += pulp.lpSum(c * x[i, j] for i, j, c in edges)\n",
    "\n",
    "    for U in [set(vertices) - {v} for v in vertices]:\n",
    "        prob += pulp.lpSum(x[i, j] for i, j, _ in edges if i in U and j not in U) >= 1\n",
    "    \n",
    "    for v in vertices:\n",
    "        prob += pulp.lpSum(x[i, j] for i, j, _ in edges if i == v) == 1\n",
    "        prob += pulp.lpSum(x[i, j] for i, j, _ in edges if j == v) == 1\n",
    "    \n",
    "    # Solve the LP\n",
    "    prob.solve()\n",
    "    \n",
    "    # Extract results\n",
    "    status = pulp.LpStatus[prob.status]\n",
    "    total_cost = pulp.value(prob.objective)\n",
    "    edge_solution = {(i, j): x[i, j].varValue for i, j, _ in edges}\n",
    "    \n",
    "    return status, total_cost, edge_solution"
   ]
  },
  {
   "cell_type": "code",
   "execution_count": 12,
   "metadata": {},
   "outputs": [
    {
     "name": "stdout",
     "output_type": "stream",
     "text": [
      "Welcome to the CBC MILP Solver \n",
      "Version: 2.10.3 \n",
      "Build Date: Dec 15 2019 \n",
      "\n",
      "command line - /Users/chuck/miniforge3/envs/CS632/lib/python3.9/site-packages/pulp/solverdir/cbc/osx/64/cbc /var/folders/tf/kyhcn0rj15722n_6n2h54bcc0000gn/T/bae8ee8ea6ff4c68b871cf9d2c1d8d13-pulp.mps -timeMode elapsed -branch -printingOptions all -solution /var/folders/tf/kyhcn0rj15722n_6n2h54bcc0000gn/T/bae8ee8ea6ff4c68b871cf9d2c1d8d13-pulp.sol (default strategy 1)\n",
      "At line 2 NAME          MODEL\n",
      "At line 3 ROWS\n",
      "At line 14 COLUMNS\n",
      "At line 39 RHS\n",
      "At line 49 BOUNDS\n",
      "At line 56 ENDATA\n",
      "Problem MODEL has 9 rows, 6 columns and 18 elements\n",
      "Coin0008I MODEL read with 0 errors\n",
      "Option for timeMode changed from cpu to elapsed\n",
      "Presolve 0 (-9) rows, 0 (-6) columns and 0 (-18) elements\n",
      "Empty problem - 0 rows, 0 columns and 0 elements\n",
      "Optimal - objective value 3\n",
      "After Postsolve, objective 3, infeasibilities - dual 0 (0), primal 0 (0)\n",
      "Optimal objective 3 - 0 iterations time 0.002, Presolve 0.00\n",
      "Option for printingOptions changed from normal to all\n",
      "Total time (CPU seconds):       0.00   (Wallclock seconds):       0.00\n",
      "\n"
     ]
    }
   ],
   "source": [
    "# Test cases\n",
    "vertices = [0, 1, 2]\n",
    "edges = [\n",
    "    (0, 1, 2), (1, 2, 2), (2, 0, 2),\n",
    "    (0, 2, 1), (2, 1, 1), (1, 0, 1)\n",
    "]\n",
    "\n",
    "status, total_cost, edge_solution = solve_held_karp(vertices, edges)"
   ]
  },
  {
   "cell_type": "code",
   "execution_count": 13,
   "metadata": {},
   "outputs": [
    {
     "name": "stdout",
     "output_type": "stream",
     "text": [
      "3.0\n",
      "[(1, 0), (2, 1), (0, 2)]\n"
     ]
    }
   ],
   "source": [
    "# Check against networkx package\n",
    "import networkx as nx\n",
    "from networkx.algorithms.approximation.traveling_salesman import held_karp_ascent\n",
    "\n",
    "G = nx.complete_graph(3, create_using=nx.DiGraph)\n",
    "nx.set_edge_attributes(G, {(0, 1): 2, (1, 2): 2, (2, 0): 2, (0, 2): 1, (2, 1): 1, (1, 0): 1}, \"weight\")\n",
    "\n",
    "opt_hk, z_star = held_karp_ascent(G, 'weight')\n",
    "print(opt_hk)\n",
    "print(z_star.edges)"
   ]
  },
  {
   "cell_type": "markdown",
   "metadata": {},
   "source": [
    "# Sample Spanning Tree"
   ]
  },
  {
   "cell_type": "code",
   "execution_count": null,
   "metadata": {},
   "outputs": [
    {
     "data": {
      "text/plain": [
       "{frozenset({0, 1}), frozenset({0, 2}), frozenset({1, 2})}"
      ]
     },
     "execution_count": 16,
     "metadata": {},
     "output_type": "execute_result"
    }
   ],
   "source": [
    "support = list()\n",
    "for (u, v), value_uv in edge_solution.items():\n",
    "    if value_uv > 0:  \n",
    "        value_vu = edge_solution.get((v, u), 0)\n",
    "        support.add(set({i, j})) \n",
    "support"
   ]
  }
 ],
 "metadata": {
  "kernelspec": {
   "display_name": "CS632",
   "language": "python",
   "name": "python3"
  },
  "language_info": {
   "codemirror_mode": {
    "name": "ipython",
    "version": 3
   },
   "file_extension": ".py",
   "mimetype": "text/x-python",
   "name": "python",
   "nbconvert_exporter": "python",
   "pygments_lexer": "ipython3",
   "version": "3.9.20"
  }
 },
 "nbformat": 4,
 "nbformat_minor": 2
}
