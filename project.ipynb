{
 "cells": [
  {
   "cell_type": "code",
   "execution_count": 16,
   "metadata": {},
   "outputs": [],
   "source": [
    "import pulp\n",
    "\n",
    "def solve_held_karp(vertices, edges):\n",
    "    prob = pulp.LpProblem(\"Held-Karp_Relaxation\", pulp.LpMinimize)\n",
    "    x = pulp.LpVariable.dicts(\"x\", [(i, j) for i, j, _ in edges], \n",
    "                              lowBound=0, upBound=1, cat=pulp.LpContinuous)\n",
    "\n",
    "    prob += pulp.lpSum(c * x[i, j] for i, j, c in edges)\n",
    "\n",
    "    for U in [set(vertices) - {v} for v in vertices]:\n",
    "        prob += pulp.lpSum(x[i, j] for i, j, _ in edges if i in U and j not in U) >= 1\n",
    "    \n",
    "    for v in vertices:\n",
    "        prob += pulp.lpSum(x[i, j] for i, j, _ in edges if i == v) == 1\n",
    "        prob += pulp.lpSum(x[i, j] for i, j, _ in edges if j == v) == 1\n",
    "    \n",
    "    # Solve the LP\n",
    "    prob.solve()\n",
    "    \n",
    "    # Extract results\n",
    "    status = pulp.LpStatus[prob.status]\n",
    "    total_cost = pulp.value(prob.objective)\n",
    "    edge_solution = {(i, j): x[i, j].varValue for i, j, _ in edges}\n",
    "    \n",
    "    return status, total_cost, edge_solution"
   ]
  },
  {
   "cell_type": "code",
   "execution_count": 17,
   "metadata": {},
   "outputs": [
    {
     "name": "stdout",
     "output_type": "stream",
     "text": [
      "Welcome to the CBC MILP Solver \n",
      "Version: 2.10.3 \n",
      "Build Date: Dec 15 2019 \n",
      "\n",
      "command line - /Users/chuck/miniforge3/envs/CS632/lib/python3.9/site-packages/pulp/solverdir/cbc/osx/64/cbc /var/folders/tf/kyhcn0rj15722n_6n2h54bcc0000gn/T/d610f5081f4144cea04bc7012bbf4258-pulp.mps -timeMode elapsed -branch -printingOptions all -solution /var/folders/tf/kyhcn0rj15722n_6n2h54bcc0000gn/T/d610f5081f4144cea04bc7012bbf4258-pulp.sol (default strategy 1)\n",
      "At line 2 NAME          MODEL\n",
      "At line 3 ROWS\n",
      "At line 17 COLUMNS\n",
      "At line 42 RHS\n",
      "At line 55 BOUNDS\n",
      "At line 62 ENDATA\n",
      "Problem MODEL has 12 rows, 6 columns and 18 elements\n",
      "Coin0008I MODEL read with 0 errors\n",
      "Option for timeMode changed from cpu to elapsed\n",
      "Presolve determined that the problem was infeasible with tolerance of 1e-08\n",
      "Analysis indicates model infeasible or unbounded\n",
      "0  Obj 0 Primal inf 11.999999 (12)\n",
      "3  Obj 3 Primal inf 2.9999997 (3)\n",
      "Primal infeasible - objective value 3\n",
      "PrimalInfeasible objective 3 - 3 iterations time 0.002\n",
      "\n",
      "Result - Linear relaxation infeasible\n",
      "\n",
      "Enumerated nodes:           0\n",
      "Total iterations:           0\n",
      "Time (CPU seconds):         0.00\n",
      "Time (Wallclock Seconds):   0.00\n",
      "\n",
      "Option for printingOptions changed from normal to all\n",
      "Total time (CPU seconds):       0.00   (Wallclock seconds):       0.00\n",
      "\n"
     ]
    },
    {
     "data": {
      "text/plain": [
       "('Infeasible',\n",
       " 3.0,\n",
       " {(0, 1): 0.0,\n",
       "  (1, 2): 0.0,\n",
       "  (2, 0): 0.0,\n",
       "  (0, 2): 1.0,\n",
       "  (2, 1): 1.0,\n",
       "  (1, 0): 1.0})"
      ]
     },
     "execution_count": 17,
     "metadata": {},
     "output_type": "execute_result"
    }
   ],
   "source": [
    "vertices = [0, 1, 2, 3]\n",
    "edges = [\n",
    "    (0, 1, 2), (1, 2, 2), (2, 0, 2),\n",
    "    (0, 2, 1), (2, 1, 1), (1, 0, 1)\n",
    "]\n",
    "\n",
    "solve_held_karp(vertices, edges)"
   ]
  },
  {
   "cell_type": "code",
   "execution_count": 15,
   "metadata": {},
   "outputs": [
    {
     "name": "stdout",
     "output_type": "stream",
     "text": [
      "3.0\n",
      "[(1, 0), (2, 1), (0, 2)]\n"
     ]
    }
   ],
   "source": [
    "import networkx as nx\n",
    "from networkx.algorithms.approximation.traveling_salesman import held_karp_ascent\n",
    "\n",
    "G = nx.complete_graph(3, create_using=nx.DiGraph)\n",
    "nx.set_edge_attributes(G, {(0, 1): 2, (1, 2): 2, (2, 0): 2, (0, 2): 1, (2, 1): 1, (1, 0): 1}, \"weight\")\n",
    "\n",
    "opt_hk, z_star = held_karp_ascent(G, 'weight')\n",
    "print(opt_hk)\n",
    "print(z_star.edges)"
   ]
  }
 ],
 "metadata": {
  "kernelspec": {
   "display_name": "CS632",
   "language": "python",
   "name": "python3"
  },
  "language_info": {
   "codemirror_mode": {
    "name": "ipython",
    "version": 3
   },
   "file_extension": ".py",
   "mimetype": "text/x-python",
   "name": "python",
   "nbconvert_exporter": "python",
   "pygments_lexer": "ipython3",
   "version": "3.9.20"
  }
 },
 "nbformat": 4,
 "nbformat_minor": 2
}
